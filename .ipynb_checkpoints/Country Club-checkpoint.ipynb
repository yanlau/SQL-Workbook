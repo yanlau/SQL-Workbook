{
 "cells": [
  {
   "cell_type": "code",
   "execution_count": 1,
   "metadata": {},
   "outputs": [],
   "source": [
    "import pandas as pd\n",
    "import sqlite3"
   ]
  },
  {
   "cell_type": "code",
   "execution_count": 4,
   "metadata": {},
   "outputs": [],
   "source": [
    "conn = sqlite3.connect(\"CountryClub.db\")"
   ]
  },
  {
   "cell_type": "code",
   "execution_count": 24,
   "metadata": {},
   "outputs": [],
   "source": [
    "sql = \"SELECT f.name, SUM(CASE WHEN memid = 0 THEN f.guestcost ELSE f.membercost END) as revenue FROM Bookings INNER JOIN Facilities as f USING (facid) GROUP BY f.name\""
   ]
  },
  {
   "cell_type": "code",
   "execution_count": 25,
   "metadata": {},
   "outputs": [],
   "source": [
    "q10 = pd.read_sql(sql, conn)"
   ]
  },
  {
   "cell_type": "code",
   "execution_count": 26,
   "metadata": {},
   "outputs": [
    {
     "name": "stdout",
     "output_type": "stream",
     "text": [
      "              name  revenue\n",
      "0  Badminton Court    604.5\n",
      "1   Massage Room 1  20807.9\n",
      "2   Massage Room 2   6987.3\n",
      "3       Pool Table    265.0\n",
      "4    Snooker Table    115.0\n",
      "5     Squash Court   4970.0\n",
      "6     Table Tennis     90.0\n",
      "7   Tennis Court 1   4040.0\n",
      "8   Tennis Court 2   4205.0\n"
     ]
    }
   ],
   "source": [
    "print(q10)"
   ]
  },
  {
   "cell_type": "code",
   "execution_count": 87,
   "metadata": {},
   "outputs": [],
   "source": [
    "sql11 = \"SELECT m.name, r.recommender FROM (SELECT memid, surname|| ','|| firstname as name,CASE WHEN CAST(recommendedby AS SIGNED) = 0 THEN NULL ELSE CAST(recommendedby AS SIGNED) END as recommended FROM Members) AS m LEFT JOIN(SELECT memid as recid, surname|| ','|| firstname as recommender FROM Members) AS r ON m.recommended = r.recid ORDER BY m.name\""
   ]
  },
  {
   "cell_type": "code",
   "execution_count": 88,
   "metadata": {},
   "outputs": [],
   "source": [
    "q11 = pd.read_sql(sql11, conn)"
   ]
  },
  {
   "cell_type": "code",
   "execution_count": 89,
   "metadata": {},
   "outputs": [
    {
     "name": "stdout",
     "output_type": "stream",
     "text": [
      "                       name        recommender\n",
      "0            Bader,Florence    Stibbons,Ponder\n",
      "1                Baker,Anne    Stibbons,Ponder\n",
      "2             Baker,Timothy     Farrell,Jemima\n",
      "3                Boothe,Tim         Rownam,Tim\n",
      "4            Butters,Gerald       Smith,Darren\n",
      "5               Coplin,Joan      Baker,Timothy\n",
      "6             Crumpet,Erica        Smith,Tracy\n",
      "7                Dare,Nancy    Joplette,Janice\n",
      "8             Farrell,David               None\n",
      "9            Farrell,Jemima               None\n",
      "10              GUEST,GUEST               None\n",
      "11          Genting,Matthew     Butters,Gerald\n",
      "12                Hunt,John  Purview,Millicent\n",
      "13              Jones,David    Joplette,Janice\n",
      "14            Jones,Douglas        Jones,David\n",
      "15          Joplette,Janice       Smith,Darren\n",
      "16           Mackenzie,Anna       Smith,Darren\n",
      "17             Owen,Charles       Smith,Darren\n",
      "18             Pinker,David     Farrell,Jemima\n",
      "19        Purview,Millicent        Smith,Tracy\n",
      "20               Rownam,Tim               None\n",
      "21         Rumney,Henrietta    Genting,Matthew\n",
      "22         Sarwin,Ramnaresh     Bader,Florence\n",
      "23             Smith,Darren               None\n",
      "24             Smith,Darren               None\n",
      "25               Smith,Jack       Smith,Darren\n",
      "26              Smith,Tracy               None\n",
      "27          Stibbons,Ponder       Tracy,Burton\n",
      "28             Tracy,Burton               None\n",
      "29      Tupperware,Hyacinth               None\n",
      "30  Worthington-Smyth,Henry        Smith,Tracy\n"
     ]
    }
   ],
   "source": [
    "print(q11)"
   ]
  },
  {
   "cell_type": "code",
   "execution_count": 90,
   "metadata": {},
   "outputs": [],
   "source": [
    "sql12 = \"SELECT f.name, SUM(CASE WHEN memid != 0 THEN 1 ELSE 0 END) as memberusers FROM Bookings INNER JOIN Facilities as f USING (facid) GROUP BY f.name ORDER BY memberusers desc\""
   ]
  },
  {
   "cell_type": "code",
   "execution_count": 91,
   "metadata": {},
   "outputs": [
    {
     "name": "stdout",
     "output_type": "stream",
     "text": [
      "              name  memberusers\n",
      "0       Pool Table          783\n",
      "1    Snooker Table          421\n",
      "2   Massage Room 1          421\n",
      "3     Table Tennis          385\n",
      "4  Badminton Court          344\n",
      "5   Tennis Court 1          308\n",
      "6   Tennis Court 2          276\n",
      "7     Squash Court          195\n",
      "8   Massage Room 2           27\n"
     ]
    }
   ],
   "source": [
    "q12 = pd.read_sql(sql12, conn)\n",
    "print(q12)"
   ]
  },
  {
   "cell_type": "code",
   "execution_count": 97,
   "metadata": {},
   "outputs": [],
   "source": [
    "sql13 = \"SELECT f.name, strftime('%m',CAST(starttime as Date)) as month, COUNT(bookid) as users FROM Bookings INNER JOIN Facilities as f USING (facid) GROUP BY f.name, month ORDER BY f.name, month\""
   ]
  },
  {
   "cell_type": "code",
   "execution_count": 98,
   "metadata": {},
   "outputs": [
    {
     "name": "stdout",
     "output_type": "stream",
     "text": [
      "              name month  users\n",
      "0  Badminton Court    05    383\n",
      "1   Massage Room 1    05    629\n",
      "2   Massage Room 2    05    111\n",
      "3       Pool Table    05    836\n",
      "4    Snooker Table    05    444\n",
      "5     Squash Court    05    440\n",
      "6     Table Tennis    05    403\n",
      "7   Tennis Court 1    05    408\n",
      "8   Tennis Court 2    05    389\n"
     ]
    }
   ],
   "source": [
    "q13 = pd.read_sql(sql13, conn)\n",
    "print(q13)"
   ]
  },
  {
   "cell_type": "code",
   "execution_count": null,
   "metadata": {},
   "outputs": [],
   "source": []
  }
 ],
 "metadata": {
  "kernelspec": {
   "display_name": "Python 3",
   "language": "python",
   "name": "python3"
  },
  "language_info": {
   "codemirror_mode": {
    "name": "ipython",
    "version": 3
   },
   "file_extension": ".py",
   "mimetype": "text/x-python",
   "name": "python",
   "nbconvert_exporter": "python",
   "pygments_lexer": "ipython3",
   "version": "3.7.6"
  }
 },
 "nbformat": 4,
 "nbformat_minor": 4
}
